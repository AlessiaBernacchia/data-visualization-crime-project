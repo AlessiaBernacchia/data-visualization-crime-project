{
 "cells": [
  {
   "metadata": {},
   "cell_type": "markdown",
   "source": [
    "    Bernacchia Alessia, Pioda Tommaso, Villani Giacomo\n",
    "# Is Boston a safe place?\n",
    "## data visualization project\n"
   ],
   "id": "2ac53f6bc3321a1f"
  },
  {
   "metadata": {
    "ExecuteTime": {
     "end_time": "2024-11-15T17:12:05.767318Z",
     "start_time": "2024-11-15T17:12:05.762786Z"
    }
   },
   "cell_type": "code",
   "source": [
    "import pandas as pd\n",
    "import numpy as np\n",
    "import matplotlib.pyplot as plt\n",
    "import seaborn as sns\n",
    "import os"
   ],
   "id": "27f1f8e89b6b07db",
   "outputs": [],
   "execution_count": 1
  },
  {
   "metadata": {
    "ExecuteTime": {
     "end_time": "2024-11-15T17:12:05.787963Z",
     "start_time": "2024-11-15T17:12:05.782909Z"
    }
   },
   "cell_type": "code",
   "source": "pd.set_option('future.no_silent_downcasting', True)",
   "id": "c49bf0a198c439db",
   "outputs": [],
   "execution_count": 2
  },
  {
   "metadata": {
    "ExecuteTime": {
     "end_time": "2024-11-15T17:12:07.161357Z",
     "start_time": "2024-11-15T17:12:05.793754Z"
    }
   },
   "cell_type": "code",
   "source": [
    "crime = pd.read_csv('crime.csv', encoding='latin1')\n",
    "#seizure = pd.read_csv('seizures_1.csv')\n",
    "#traffic = pd.read_csv('traffic_violations.csv')"
   ],
   "id": "7adcf2ffeb69ff5f",
   "outputs": [],
   "execution_count": 3
  },
  {
   "metadata": {},
   "cell_type": "markdown",
   "source": "### exploration",
   "id": "1bdd1f48af72d1aa"
  },
  {
   "metadata": {
    "ExecuteTime": {
     "end_time": "2024-11-15T17:12:07.541524Z",
     "start_time": "2024-11-15T17:12:07.515050Z"
    }
   },
   "cell_type": "code",
   "source": "crime.head()",
   "id": "aa0270713b3c4e37",
   "outputs": [
    {
     "data": {
      "text/plain": [
       "  INCIDENT_NUMBER  OFFENSE_CODE    OFFENSE_CODE_GROUP   OFFENSE_DESCRIPTION  \\\n",
       "0      I182070945           619               Larceny    LARCENY ALL OTHERS   \n",
       "1      I182070943          1402             Vandalism             VANDALISM   \n",
       "2      I182070941          3410                 Towed   TOWED MOTOR VEHICLE   \n",
       "3      I182070940          3114  Investigate Property  INVESTIGATE PROPERTY   \n",
       "4      I182070938          3114  Investigate Property  INVESTIGATE PROPERTY   \n",
       "\n",
       "  DISTRICT REPORTING_AREA SHOOTING     OCCURRED_ON_DATE  YEAR  MONTH  \\\n",
       "0      D14            808      NaN  2018-09-02 13:00:00  2018      9   \n",
       "1      C11            347      NaN  2018-08-21 00:00:00  2018      8   \n",
       "2       D4            151      NaN  2018-09-03 19:27:00  2018      9   \n",
       "3       D4            272      NaN  2018-09-03 21:16:00  2018      9   \n",
       "4       B3            421      NaN  2018-09-03 21:05:00  2018      9   \n",
       "\n",
       "  DAY_OF_WEEK  HOUR    UCR_PART       STREET        Lat       Long  \\\n",
       "0      Sunday    13    Part One   LINCOLN ST  42.357791 -71.139371   \n",
       "1     Tuesday     0    Part Two     HECLA ST  42.306821 -71.060300   \n",
       "2      Monday    19  Part Three  CAZENOVE ST  42.346589 -71.072429   \n",
       "3      Monday    21  Part Three   NEWCOMB ST  42.334182 -71.078664   \n",
       "4      Monday    21  Part Three     DELHI ST  42.275365 -71.090361   \n",
       "\n",
       "                      Location  \n",
       "0  (42.35779134, -71.13937053)  \n",
       "1  (42.30682138, -71.06030035)  \n",
       "2  (42.34658879, -71.07242943)  \n",
       "3  (42.33418175, -71.07866441)  \n",
       "4  (42.27536542, -71.09036101)  "
      ],
      "text/html": [
       "<div>\n",
       "<style scoped>\n",
       "    .dataframe tbody tr th:only-of-type {\n",
       "        vertical-align: middle;\n",
       "    }\n",
       "\n",
       "    .dataframe tbody tr th {\n",
       "        vertical-align: top;\n",
       "    }\n",
       "\n",
       "    .dataframe thead th {\n",
       "        text-align: right;\n",
       "    }\n",
       "</style>\n",
       "<table border=\"1\" class=\"dataframe\">\n",
       "  <thead>\n",
       "    <tr style=\"text-align: right;\">\n",
       "      <th></th>\n",
       "      <th>INCIDENT_NUMBER</th>\n",
       "      <th>OFFENSE_CODE</th>\n",
       "      <th>OFFENSE_CODE_GROUP</th>\n",
       "      <th>OFFENSE_DESCRIPTION</th>\n",
       "      <th>DISTRICT</th>\n",
       "      <th>REPORTING_AREA</th>\n",
       "      <th>SHOOTING</th>\n",
       "      <th>OCCURRED_ON_DATE</th>\n",
       "      <th>YEAR</th>\n",
       "      <th>MONTH</th>\n",
       "      <th>DAY_OF_WEEK</th>\n",
       "      <th>HOUR</th>\n",
       "      <th>UCR_PART</th>\n",
       "      <th>STREET</th>\n",
       "      <th>Lat</th>\n",
       "      <th>Long</th>\n",
       "      <th>Location</th>\n",
       "    </tr>\n",
       "  </thead>\n",
       "  <tbody>\n",
       "    <tr>\n",
       "      <th>0</th>\n",
       "      <td>I182070945</td>\n",
       "      <td>619</td>\n",
       "      <td>Larceny</td>\n",
       "      <td>LARCENY ALL OTHERS</td>\n",
       "      <td>D14</td>\n",
       "      <td>808</td>\n",
       "      <td>NaN</td>\n",
       "      <td>2018-09-02 13:00:00</td>\n",
       "      <td>2018</td>\n",
       "      <td>9</td>\n",
       "      <td>Sunday</td>\n",
       "      <td>13</td>\n",
       "      <td>Part One</td>\n",
       "      <td>LINCOLN ST</td>\n",
       "      <td>42.357791</td>\n",
       "      <td>-71.139371</td>\n",
       "      <td>(42.35779134, -71.13937053)</td>\n",
       "    </tr>\n",
       "    <tr>\n",
       "      <th>1</th>\n",
       "      <td>I182070943</td>\n",
       "      <td>1402</td>\n",
       "      <td>Vandalism</td>\n",
       "      <td>VANDALISM</td>\n",
       "      <td>C11</td>\n",
       "      <td>347</td>\n",
       "      <td>NaN</td>\n",
       "      <td>2018-08-21 00:00:00</td>\n",
       "      <td>2018</td>\n",
       "      <td>8</td>\n",
       "      <td>Tuesday</td>\n",
       "      <td>0</td>\n",
       "      <td>Part Two</td>\n",
       "      <td>HECLA ST</td>\n",
       "      <td>42.306821</td>\n",
       "      <td>-71.060300</td>\n",
       "      <td>(42.30682138, -71.06030035)</td>\n",
       "    </tr>\n",
       "    <tr>\n",
       "      <th>2</th>\n",
       "      <td>I182070941</td>\n",
       "      <td>3410</td>\n",
       "      <td>Towed</td>\n",
       "      <td>TOWED MOTOR VEHICLE</td>\n",
       "      <td>D4</td>\n",
       "      <td>151</td>\n",
       "      <td>NaN</td>\n",
       "      <td>2018-09-03 19:27:00</td>\n",
       "      <td>2018</td>\n",
       "      <td>9</td>\n",
       "      <td>Monday</td>\n",
       "      <td>19</td>\n",
       "      <td>Part Three</td>\n",
       "      <td>CAZENOVE ST</td>\n",
       "      <td>42.346589</td>\n",
       "      <td>-71.072429</td>\n",
       "      <td>(42.34658879, -71.07242943)</td>\n",
       "    </tr>\n",
       "    <tr>\n",
       "      <th>3</th>\n",
       "      <td>I182070940</td>\n",
       "      <td>3114</td>\n",
       "      <td>Investigate Property</td>\n",
       "      <td>INVESTIGATE PROPERTY</td>\n",
       "      <td>D4</td>\n",
       "      <td>272</td>\n",
       "      <td>NaN</td>\n",
       "      <td>2018-09-03 21:16:00</td>\n",
       "      <td>2018</td>\n",
       "      <td>9</td>\n",
       "      <td>Monday</td>\n",
       "      <td>21</td>\n",
       "      <td>Part Three</td>\n",
       "      <td>NEWCOMB ST</td>\n",
       "      <td>42.334182</td>\n",
       "      <td>-71.078664</td>\n",
       "      <td>(42.33418175, -71.07866441)</td>\n",
       "    </tr>\n",
       "    <tr>\n",
       "      <th>4</th>\n",
       "      <td>I182070938</td>\n",
       "      <td>3114</td>\n",
       "      <td>Investigate Property</td>\n",
       "      <td>INVESTIGATE PROPERTY</td>\n",
       "      <td>B3</td>\n",
       "      <td>421</td>\n",
       "      <td>NaN</td>\n",
       "      <td>2018-09-03 21:05:00</td>\n",
       "      <td>2018</td>\n",
       "      <td>9</td>\n",
       "      <td>Monday</td>\n",
       "      <td>21</td>\n",
       "      <td>Part Three</td>\n",
       "      <td>DELHI ST</td>\n",
       "      <td>42.275365</td>\n",
       "      <td>-71.090361</td>\n",
       "      <td>(42.27536542, -71.09036101)</td>\n",
       "    </tr>\n",
       "  </tbody>\n",
       "</table>\n",
       "</div>"
      ]
     },
     "execution_count": 4,
     "metadata": {},
     "output_type": "execute_result"
    }
   ],
   "execution_count": 4
  },
  {
   "metadata": {
    "ExecuteTime": {
     "end_time": "2024-11-15T17:12:08.054059Z",
     "start_time": "2024-11-15T17:12:07.858430Z"
    }
   },
   "cell_type": "code",
   "source": "crime.info()",
   "id": "2db7911da5418daf",
   "outputs": [
    {
     "name": "stdout",
     "output_type": "stream",
     "text": [
      "<class 'pandas.core.frame.DataFrame'>\n",
      "RangeIndex: 319073 entries, 0 to 319072\n",
      "Data columns (total 17 columns):\n",
      " #   Column               Non-Null Count   Dtype  \n",
      "---  ------               --------------   -----  \n",
      " 0   INCIDENT_NUMBER      319073 non-null  object \n",
      " 1   OFFENSE_CODE         319073 non-null  int64  \n",
      " 2   OFFENSE_CODE_GROUP   319073 non-null  object \n",
      " 3   OFFENSE_DESCRIPTION  319073 non-null  object \n",
      " 4   DISTRICT             317308 non-null  object \n",
      " 5   REPORTING_AREA       319073 non-null  object \n",
      " 6   SHOOTING             1019 non-null    object \n",
      " 7   OCCURRED_ON_DATE     319073 non-null  object \n",
      " 8   YEAR                 319073 non-null  int64  \n",
      " 9   MONTH                319073 non-null  int64  \n",
      " 10  DAY_OF_WEEK          319073 non-null  object \n",
      " 11  HOUR                 319073 non-null  int64  \n",
      " 12  UCR_PART             318983 non-null  object \n",
      " 13  STREET               308202 non-null  object \n",
      " 14  Lat                  299074 non-null  float64\n",
      " 15  Long                 299074 non-null  float64\n",
      " 16  Location             319073 non-null  object \n",
      "dtypes: float64(2), int64(4), object(11)\n",
      "memory usage: 41.4+ MB\n"
     ]
    }
   ],
   "execution_count": 5
  },
  {
   "metadata": {
    "ExecuteTime": {
     "end_time": "2024-11-15T17:12:08.131018Z",
     "start_time": "2024-11-15T17:12:08.124504Z"
    }
   },
   "cell_type": "code",
   "source": "crime.shape",
   "id": "a9d6ba26c0d0acfd",
   "outputs": [
    {
     "data": {
      "text/plain": [
       "(319073, 17)"
      ]
     },
     "execution_count": 6,
     "metadata": {},
     "output_type": "execute_result"
    }
   ],
   "execution_count": 6
  },
  {
   "metadata": {
    "ExecuteTime": {
     "end_time": "2024-11-15T17:12:08.353820Z",
     "start_time": "2024-11-15T17:12:08.203160Z"
    }
   },
   "cell_type": "code",
   "source": "crime.describe().loc[['min', 'max']]",
   "id": "2d6d468aef2ec22",
   "outputs": [
    {
     "data": {
      "text/plain": [
       "     OFFENSE_CODE    YEAR  MONTH  HOUR        Lat       Long\n",
       "min         111.0  2015.0    1.0   0.0  -1.000000 -71.178674\n",
       "max        3831.0  2018.0   12.0  23.0  42.395042  -1.000000"
      ],
      "text/html": [
       "<div>\n",
       "<style scoped>\n",
       "    .dataframe tbody tr th:only-of-type {\n",
       "        vertical-align: middle;\n",
       "    }\n",
       "\n",
       "    .dataframe tbody tr th {\n",
       "        vertical-align: top;\n",
       "    }\n",
       "\n",
       "    .dataframe thead th {\n",
       "        text-align: right;\n",
       "    }\n",
       "</style>\n",
       "<table border=\"1\" class=\"dataframe\">\n",
       "  <thead>\n",
       "    <tr style=\"text-align: right;\">\n",
       "      <th></th>\n",
       "      <th>OFFENSE_CODE</th>\n",
       "      <th>YEAR</th>\n",
       "      <th>MONTH</th>\n",
       "      <th>HOUR</th>\n",
       "      <th>Lat</th>\n",
       "      <th>Long</th>\n",
       "    </tr>\n",
       "  </thead>\n",
       "  <tbody>\n",
       "    <tr>\n",
       "      <th>min</th>\n",
       "      <td>111.0</td>\n",
       "      <td>2015.0</td>\n",
       "      <td>1.0</td>\n",
       "      <td>0.0</td>\n",
       "      <td>-1.000000</td>\n",
       "      <td>-71.178674</td>\n",
       "    </tr>\n",
       "    <tr>\n",
       "      <th>max</th>\n",
       "      <td>3831.0</td>\n",
       "      <td>2018.0</td>\n",
       "      <td>12.0</td>\n",
       "      <td>23.0</td>\n",
       "      <td>42.395042</td>\n",
       "      <td>-1.000000</td>\n",
       "    </tr>\n",
       "  </tbody>\n",
       "</table>\n",
       "</div>"
      ]
     },
     "execution_count": 7,
     "metadata": {},
     "output_type": "execute_result"
    }
   ],
   "execution_count": 7
  },
  {
   "metadata": {
    "ExecuteTime": {
     "end_time": "2024-11-15T17:12:08.757372Z",
     "start_time": "2024-11-15T17:12:08.575063Z"
    }
   },
   "cell_type": "code",
   "source": "crime.isna().sum()",
   "id": "e683fe896f43650",
   "outputs": [
    {
     "data": {
      "text/plain": [
       "INCIDENT_NUMBER             0\n",
       "OFFENSE_CODE                0\n",
       "OFFENSE_CODE_GROUP          0\n",
       "OFFENSE_DESCRIPTION         0\n",
       "DISTRICT                 1765\n",
       "REPORTING_AREA              0\n",
       "SHOOTING               318054\n",
       "OCCURRED_ON_DATE            0\n",
       "YEAR                        0\n",
       "MONTH                       0\n",
       "DAY_OF_WEEK                 0\n",
       "HOUR                        0\n",
       "UCR_PART                   90\n",
       "STREET                  10871\n",
       "Lat                     19999\n",
       "Long                    19999\n",
       "Location                    0\n",
       "dtype: int64"
      ]
     },
     "execution_count": 8,
     "metadata": {},
     "output_type": "execute_result"
    }
   ],
   "execution_count": 8
  },
  {
   "metadata": {
    "ExecuteTime": {
     "end_time": "2024-11-15T17:12:09.288884Z",
     "start_time": "2024-11-15T17:12:08.833865Z"
    }
   },
   "cell_type": "code",
   "source": [
    "for f in crime.columns:\n",
    "    print(f'{f} has this values: {crime[f].unique()}')"
   ],
   "id": "6c50fe9a0b951d76",
   "outputs": [
    {
     "name": "stdout",
     "output_type": "stream",
     "text": [
      "INCIDENT_NUMBER has this values: ['I182070945' 'I182070943' 'I182070941' ... 'I030217815-08'\n",
      " 'I010370257-00' '142052550']\n",
      "OFFENSE_CODE has this values: [ 619 1402 3410 3114 3820  724 3301  301 3108 2647 3201 3006 3305  614\n",
      " 3801 3803  522 3831  802 2007 2900 2907 2629 2662 3207  613 3109 2612\n",
      " 1843 3125 1841 3802 3018 2405  617 3625 3106 3501 3115  616 3807 1102\n",
      " 1849 2905 1810 1842 1806 1848 1844  423 3205  413 1501 3001 3830  561\n",
      " 2914 2610 1109  706 2403 3160  900  801 3002  520 2648  670  615 3116\n",
      " 1504 1830  361 2006  311 1001 3810 2401 2646 3821 3811 3007 2660 1831\n",
      " 3119 3170 1874 3112 3502  735  612  560  381 3402 1815 1107 2101 1106\n",
      " 3202 1503 1846 3016 3304  611 2622 3130 2407 2657 3111 3503 2906  540\n",
      " 3208 1832  521 1847 1510 1850 2010 2616 1304 2511 2005 1605 3805 1300\n",
      " 2102 3008 2632 3102 1415  542 2663 1805 3620 2604  371 2204 2619  727\n",
      "  804 2003 1845  111 2613 1201 2617 3123 3110  541 2670 2623 2608 3004\n",
      " 2618  562 1108 1825 2628 1870  351 1602 3122 3303 1807 2636 2611  618\n",
      " 3203 3302 2605 3403 2004 2641 2631 3029 2642 1502 2672  121 1601 2606\n",
      " 1901 2664 1610  123 1620 1603 2609  112  624  633  403  404 1863  803\n",
      "  770  349  432  339 1002  335  627  629 1302  315  634 1866  402 2910\n",
      "  637  639  511  714 1105  527  623  338  547  334  530 1864]\n",
      "OFFENSE_CODE_GROUP has this values: ['Larceny' 'Vandalism' 'Towed' 'Investigate Property'\n",
      " 'Motor Vehicle Accident Response' 'Auto Theft' 'Verbal Disputes'\n",
      " 'Robbery' 'Fire Related Reports' 'Other' 'Property Lost'\n",
      " 'Medical Assistance' 'Assembly or Gathering Violations'\n",
      " 'Larceny From Motor Vehicle' 'Residential Burglary' 'Simple Assault'\n",
      " 'Restraining Order Violations' 'Violations' 'Harassment' 'Ballistics'\n",
      " 'Property Found' 'Police Service Incidents' 'Drug Violation'\n",
      " 'Warrant Arrests' 'Disorderly Conduct' 'Property Related Damage'\n",
      " 'Missing Person Reported' 'Investigate Person' 'Fraud'\n",
      " 'Aggravated Assault' 'License Plate Related Incidents'\n",
      " 'Firearm Violations' 'Other Burglary' 'Arson' 'Bomb Hoax'\n",
      " 'Harbor Related Incidents' 'Counterfeiting' 'Liquor Violation'\n",
      " 'Firearm Discovery' 'Landlord/Tenant Disputes' 'Missing Person Located'\n",
      " 'Auto Theft Recovery' 'Service' 'Operating Under the Influence'\n",
      " 'Confidence Games' 'Search Warrants' 'License Violation'\n",
      " 'Commercial Burglary' 'HOME INVASION' 'Recovered Stolen Property'\n",
      " 'Offenses Against Child / Family' 'Prostitution' 'Evading Fare'\n",
      " 'Prisoner Related Incidents' 'Homicide' 'Embezzlement' 'Explosives'\n",
      " 'Criminal Harassment' 'Phone Call Complaints' 'Aircraft'\n",
      " 'Biological Threat' 'Manslaughter' 'Gambling' 'INVESTIGATE PERSON'\n",
      " 'HUMAN TRAFFICKING' 'HUMAN TRAFFICKING - INVOLUNTARY SERVITUDE'\n",
      " 'Burglary - No Property Taken']\n",
      "OFFENSE_DESCRIPTION has this values: ['LARCENY ALL OTHERS' 'VANDALISM' 'TOWED MOTOR VEHICLE'\n",
      " 'INVESTIGATE PROPERTY' 'M/V ACCIDENT INVOLVING PEDESTRIAN - INJURY'\n",
      " 'AUTO THEFT' 'VERBAL DISPUTE' 'ROBBERY - STREET'\n",
      " 'FIRE REPORT - HOUSE, BUILDING, ETC.' 'THREATS TO DO BODILY HARM'\n",
      " 'PROPERTY - LOST' 'SICK/INJURED/MEDICAL - PERSON' 'DEMONSTRATIONS/RIOT'\n",
      " 'LARCENY THEFT FROM MV - NON-ACCESSORY' 'M/V ACCIDENT - OTHER'\n",
      " 'M/V ACCIDENT - PERSONAL INJURY' 'BURGLARY - RESIDENTIAL - NO FORCE'\n",
      " 'M/V - LEAVING SCENE - PROPERTY DAMAGE' 'ASSAULT SIMPLE - BATTERY'\n",
      " 'VIOL. OF RESTRAINING ORDER W NO ARREST'\n",
      " 'VAL - VIOLATION OF AUTO LAW - OTHER' 'VAL - OPERATING AFTER REV/SUSP.'\n",
      " 'HARASSMENT' 'BALLISTICS EVIDENCE/FOUND' 'PROPERTY - FOUND'\n",
      " 'LARCENY SHOPLIFTING' 'SERVICE TO OTHER PD INSIDE OF MA.'\n",
      " 'FIRE REPORT/ALARM - FALSE'\n",
      " 'DRUGS - POSS CLASS B - INTENT TO MFR DIST DISP' 'WARRANT ARREST'\n",
      " 'DRUGS - POSS CLASS A - INTENT TO MFR DIST DISP'\n",
      " 'M/V ACCIDENT - PROPERTY \\xa0DAMAGE' 'SICK/INJURED/MEDICAL - POLICE'\n",
      " 'DISORDERLY CONDUCT' 'LARCENY THEFT FROM BUILDING'\n",
      " 'DANGEROUS OR HAZARDOUS CONDITION' 'PROPERTY - ACCIDENTAL DAMAGE'\n",
      " 'MISSING PERSON' 'INVESTIGATE PERSON' 'LARCENY THEFT OF BICYCLE'\n",
      " 'M/V ACCIDENT - OTHER CITY VEHICLE' 'FRAUD - FALSE PRETENSE / SCHEME'\n",
      " 'DRUGS - POSS CLASS B - COCAINE, ETC.' 'VAL - OPERATING WITHOUT LICENSE'\n",
      " 'DRUGS - SALE / MANUFACTURING' 'DRUGS - POSS CLASS A - HEROIN, ETC. '\n",
      " 'DRUGS - CLASS B TRAFFICKING OVER 18 GRAMS'\n",
      " 'DRUGS - POSS CLASS D - INTENT TO MFR DIST DISP' 'DRUGS - POSS CLASS C'\n",
      " 'ASSAULT - AGGRAVATED' 'M/V PLATES - LOST'\n",
      " 'ASSAULT - AGGRAVATED - BATTERY'\n",
      " 'WEAPON - FIREARM - CARRYING / POSSESSING, ETC' 'DEATH INVESTIGATION'\n",
      " 'M/V - LEAVING SCENE - PERSONAL INJURY' 'BURGLARY - OTHER - ATTEMPT'\n",
      " 'VAL - OPERATING W/O AUTHORIZATION LAWFUL' 'TRESPASSING' 'FRAUD - WIRE'\n",
      " 'AUTO THEFT - MOTORCYCLE / SCOOTER' 'DISTURBING THE PEACE'\n",
      " 'FIRE REPORT - CAR, BRUSH, ETC.' 'ARSON' 'ASSAULT - SIMPLE'\n",
      " 'ANIMAL CONTROL - DOG BITES - ETC.' 'BURGLARY - RESIDENTIAL - FORCE'\n",
      " 'BOMB THREAT' 'RECOVERED STOLEN PLATE'\n",
      " 'LARCENY THEFT OF MV PARTS & ACCESSORIES' 'HARBOR INCIDENT / VIOLATION'\n",
      " 'WEAPON - OTHER - OTHER VIOLATION' 'DRUGS - SICK ASSIST - HEROIN'\n",
      " 'ROBBERY - OTHER' 'VIOL. OF RESTRAINING ORDER W ARREST'\n",
      " 'ROBBERY - COMMERCIAL' 'FORGERY / COUNTERFEITING'\n",
      " 'M/V ACCIDENT - INVOLVING \\xa0BICYCLE - INJURY' 'AFFRAY'\n",
      " 'LIQUOR - DRINKING IN PUBLIC'\n",
      " 'M/V ACCIDENT - INVOLVING PEDESTRIAN - NO INJURY'\n",
      " 'M/V ACCIDENT - INVOLVING BICYCLE - NO INJURY' 'SUDDEN DEATH'\n",
      " 'OTHER OFFENSE' 'DRUGS - SICK ASSIST - OTHER NARCOTIC'\n",
      " 'FIREARM/WEAPON - FOUND OR CONFISCATED' 'INTIMIDATING WITNESS'\n",
      " 'DRUGS - OTHER' 'LANDLORD - TENANT SERVICE' 'MISSING PERSON - LOCATED'\n",
      " 'RECOVERED - MV RECOVERED IN BOSTON (STOLEN OUTSIDE BOSTON)'\n",
      " 'LARCENY PURSE SNATCH - NO FORCE ' 'BURGLARY - OTHER - FORCE'\n",
      " 'ROBBERY - CAR JACKING' 'ANIMAL INCIDENTS' 'DRUGS - POSSESSION'\n",
      " 'FRAUD - IMPERSONATION' 'OPERATING UNDER THE INFLUENCE ALCOHOL'\n",
      " 'FRAUD - CREDIT CARD / ATM FRAUD' 'PROPERTY - LOST THEN LOCATED'\n",
      " 'WEAPON - OTHER - CARRYING / POSSESSING, ETC' 'DRUGS - POSS CLASS E'\n",
      " 'FIREARM/WEAPON - ACCIDENTAL INJURY / DEATH'\n",
      " 'NOISY PARTY/RADIO-NO ARREST' 'LARCENY PICK-POCKET'\n",
      " 'KIDNAPPING/CUSTODIAL KIDNAPPING' 'SEARCH WARRANT'\n",
      " 'ANNOYING AND ACCOSTING' 'VIOLATION - CITY ORDINANCE'\n",
      " 'LICENSE PREMISE VIOLATION' 'MISSING PERSON - NOT REPORTED - LOCATED'\n",
      " 'VAL - OPERATING UNREG/UNINS \\xa0CAR' 'BURGLARY - COMMERICAL - FORCE'\n",
      " 'PROPERTY - MISSING' 'DRUGS - SICK ASSIST - OTHER HARMFUL DRUG'\n",
      " 'BURGLARY - RESIDENTIAL - ATTEMPT'\n",
      " 'DRUGS - POSS CLASS C - INTENT TO MFR DIST DISP'\n",
      " 'WEAPON - FIREARM - OTHER VIOLATION'\n",
      " 'DRUGS - POSS CLASS E - INTENT TO MFR DIST DISP' 'HOME INVASION'\n",
      " 'POSSESSION OF BURGLARIOUS TOOLS' 'PROPERTY - STOLEN THEN RECOVERED'\n",
      " 'KIDNAPPING - ENTICING OR ATTEMPTED' 'CHILD ENDANGERMENT'\n",
      " 'PROSTITUTION - COMMON NIGHTWALKER' 'M/V ACCIDENT - POLICE VEHICLE'\n",
      " 'STOLEN PROPERTY - BUYING / RECEIVING / POSSESSING'\n",
      " 'OPERATING UNDER THE INFLUENCE DRUGS' 'SUICIDE / SUICIDE ATTEMPT'\n",
      " 'EVADING FARE' 'INVESTIGATION FOR ANOTHER AGENCY' 'GRAFFITI'\n",
      " 'BURGLARY - COMMERICAL - NO FORCE'\n",
      " 'VIOLATION - CITY ORDINANCE CONSTRUCTION PERMIT'\n",
      " 'DRUGS - CLASS A TRAFFICKING OVER 18 GRAMS'\n",
      " 'REPORT AFFECTING OTHER DEPTS.' 'EXTORTION OR BLACKMAIL'\n",
      " 'ROBBERY - HOME INVASION' 'LIQUOR LAW VIOLATION' 'FUGITIVE FROM JUSTICE'\n",
      " 'AUTO THEFT - LEASED/RENTED VEHICLE' 'STALKING'\n",
      " 'CHILD ENDANGERMENT (NO ASSAULT)' 'DRUGS - POSS CLASS D'\n",
      " 'MURDER, NON-NEGLIGIENT MANSLAUGHTER' 'ANIMAL ABUSE' 'EMBEZZLEMENT'\n",
      " 'CONSPIRACY EXCEPT DRUG LAW' 'EXPLOSIVES - TURNED IN OR FOUND'\n",
      " 'SERVICE TO OTHER PD OUTSIDE OF MA.' 'BURGLARY - COMMERICAL - ATTEMPT'\n",
      " 'CRIMINAL HARASSMENT' 'OBSCENE MATERIALS - PORNOGRAPHY' 'CHINS'\n",
      " 'INJURY BICYCLE NO M/V INVOLVED' 'EXPLOSIVES - POSSESSION OR USE'\n",
      " 'BURGLARY - OTHER - NO FORCE' 'FRAUD - WELFARE'\n",
      " 'DRUGS - POSSESSION OF DRUG PARAPHANALIA' 'OBSCENE PHONE CALLS'\n",
      " 'DRUGS - CONSP TO VIOL CONTROLLED SUBSTANCE' 'ROBBERY - BANK'\n",
      " 'PROSTITUTION - SOLICITING' 'AIRCRAFT INCIDENTS'\n",
      " 'NOISY PARTY/RADIO-ARREST' 'DRUGS - CLASS D TRAFFICKING OVER 50 GRAMS'\n",
      " 'PRISONER ESCAPE / ESCAPE & RECAPTURE' 'ABDUCTION - INTICING'\n",
      " 'LARCENY THEFT FROM COIN-OP MACHINE' 'FIREARM/WEAPON - LOST'\n",
      " 'GATHERING CAUSING ANNOYANCE' 'CONTRIBUTING TO DELINQUENCY OF MINOR'\n",
      " 'PROTECTIVE CUSTODY / SAFEKEEPING' 'CHILD ABANDONMENT (NO ASSAULT)'\n",
      " 'VIOLATION - HAWKER AND PEDDLER' 'PROPERTY - CONCEALING LEASED'\n",
      " 'PRISONER - SUICIDE / SUICIDE ATTEMPT' 'TRUANCY / RUNAWAY'\n",
      " 'WEAPON - FIREARM - SALE / TRAFFICKING' 'BIOLOGICAL THREATS'\n",
      " 'MANSLAUGHTER - VEHICLE - NEGLIGENCE' 'PROSTITUTION'\n",
      " 'PRISONER ATTEMPT TO RESCUE' 'GAMBLING - BETTING / WAGERING'\n",
      " 'CUSTODIAL KIDNAPPING' 'HUMAN TRAFFICKING - COMMERCIAL SEX ACTS'\n",
      " 'MANSLAUGHTER - NON-VEHICLE - NEGLIGENCE'\n",
      " 'HUMAN TRAFFICKING - INVOLUNTARY SERVITUDE'\n",
      " 'PROSTITUTION - ASSISTING OR PROMOTING' 'DRUGS - GLUE INHALATION'\n",
      " 'KILLING OF FELON BY POLICE'\n",
      " 'LARCENY NON-ACCESSORY FROM VEH. $50 TO $199' 'COUNTERFEITING'\n",
      " 'ANNOYING AND ACCOSTIN' 'LARCENY BICYCLE $200 & OVER'\n",
      " 'DRUGS - POSS CLASS A - HEROIN, ETC.' 'LARCENY SHOPLIFTING UNDER $50'\n",
      " 'ASSAULT & BATTERY D/W - OTHER'\n",
      " 'A&B HANDS, FEET, ETC.  - MED. ATTENTION REQ.'\n",
      " 'DRUGS - POSS CLASS D - MARIJUANA, ETC.'\n",
      " 'LARCENY IN A BUILDING $200 & OVER' 'LARCENY OTHER $200 & OVER'\n",
      " 'FIREARM/WEAPON - CARRY - SELL - RENT'\n",
      " 'FIREARM/WEAPON - POSSESSION OF DANGEROUS'\n",
      " 'ASSAULT & BATTERY D/W - OTHER ON POLICE OFFICER' 'A&B ON POLICE OFFICER'\n",
      " 'ASSAULT D/W - OTHER' 'ASSAULT & BATTERY'\n",
      " 'AUTO THEFT - RECOVERED IN BY POLICE' 'ROBBERY ATTEMPT - KNIFE - BANK'\n",
      " 'ASSAULT D/W - KNIFE ON POLICE OFFICER' 'ROBBERY - UNARMED - STREET'\n",
      " 'LARCENY SHOPLIFTING $200 & OVER' 'FORGERY OR UTTERING'\n",
      " 'FRAUD - FALSE PRETENSE' 'AUTO THEFT LEASE/RENT VEHICLE'\n",
      " 'VIOLATION - RESTRAINING ORDER' 'ROBBERY - UNARMED - CHAIN STORE'\n",
      " 'LARCENY IN A BUILDING $50 TO $199' 'LARCENY OTHER $50 TO $199'\n",
      " 'AUTO THEFT - OUTSIDE - RECOVERED IN BOSTON'\n",
      " 'PROPERTY - RECEIVING STOLEN' 'ROBBERY - KNIFE - STREET'\n",
      " 'LARCENY NON-ACCESSORY FROM VEH. $200 & OVER'\n",
      " 'LARCENY NON-ACCESSORY FROM VEH. UNDER $50'\n",
      " 'DRUGS - POSS CLASS E INTENT TO MF DIST DISP'\n",
      " 'ASSAULT & BATTERY D/W - KNIFE' 'B&E NON-RESIDENCE DAY - NO FORCE'\n",
      " 'LARCENY IN A BUILDING UNDER $50' 'LARCENY OTHER UNDER $50'\n",
      " 'DISORDERLY PERSON' 'B&E RESIDENCE NIGHT - ATTEMPT FORCE' 'CHILD ABUSE'\n",
      " 'AUTO THEFT OTHER' 'FRAUDS - ALL OTHER'\n",
      " 'B&E RESIDENCE DAY - NO PROP TAKEN' 'LARCENY SHOPLIFTING $50 TO $199'\n",
      " 'ROBBERY - UNARMED - RESIDENCE' 'B&E NON-RESIDENCE DAY - FORCIBLE'\n",
      " 'B&E NON-RESIDENCE DAY - NO PROP TAKEN' 'B&E RESIDENCE DAY - NO FORCE'\n",
      " 'ROBBERY - UNARMED - BUSINESS' 'B&E NON-RESIDENCE NIGHT - FORCE'\n",
      " 'PROSTITUTE - COMMON NIGHTWALKER'\n",
      " 'DRUGS - POSS CLASS D - INTENT MFR DIST DISP']\n",
      "DISTRICT has this values: ['D14' 'C11' 'D4' 'B3' 'B2' 'C6' nan 'A1' 'E5' 'A7' 'E13' 'E18' 'A15']\n",
      "REPORTING_AREA has this values: ['808' '347' '151' '272' '421' '398' '330' '584' '177' '364' '913' '936'\n",
      " '139' '429' '469' ' ' '341' '130' '901' '181' '69' '434' '550' '911'\n",
      " '172' '242' '463' '428' '464' '351' '30' '427' '276' '303' '432' '76'\n",
      " '149' '402' '456' '356' '116' '441' '562' '244' '102' '327' '205' '265'\n",
      " '493' '790' '143' '603' '642' '403' '305' '547' '145' '138' '288' '257'\n",
      " '706' '957' '498' '381' '154' '84' '776' '777' '63' '146' '449' '77'\n",
      " '794' '780' '229' '619' '294' '325' '79' '462' '237' '231' '111' '119'\n",
      " '788' '185' '582' '627' '525' '12' '605' '297' '748' '361' '564' '756'\n",
      " '56' '326' '450' '61' '362' '332' '344' '129' '101' '499' '95' '416'\n",
      " '909' '289' '495' '485' '600' '904' '388' '214' '167' '342' '142' '771'\n",
      " '165' '623' '131' '437' '940' '263' '445' '50' '120' '652' '123' '480'\n",
      " '805' '446' '594' '472' '620' '121' '122' '512' '823' '752' '455' '93'\n",
      " '461' '565' '902' '157' '366' '352' '166' '782' '128' '624' '254' '186'\n",
      " '519' '482' '425' '20' '572' '117' '586' '348' '639' '113' '304' '232'\n",
      " '379' '335' '235' '291' '490' '222' '778' '359' '311' '448' '530' '906'\n",
      " '247' '127' '206' '319' '796' '223' '266' '27' '315' '268' '23' '447'\n",
      " '583' '180' '80' '793' '103' '516' '578' '60' '282' '216' '439' '38'\n",
      " '542' '318' '329' '337' '816' '354' '317' '394' '496' '467' '598' '135'\n",
      " '200' '438' '608' '281' '579' '938' '345' '358' '144' '487' '727' '814'\n",
      " '378' '52' '162' '226' '397' '724' '824' '380' '240' '543' '285' '83'\n",
      " '233' '420' '194' '801' '401' '761' '336' '451' '674' '914' '795' '321'\n",
      " '916' '92' '452' '174' '243' '774' '22' '424' '355' '72' '822' '435'\n",
      " '508' '410' '631' '182' '527' '150' '551' '225' '515' '26' '78' '239'\n",
      " '234' '520' '280' '179' '915' '290' '112' '87' '651' '611' '406' '682'\n",
      " '641' '212' '786' '587' '563' '939' '908' '558' '680' '192' '238' '783'\n",
      " '29' '442' '510' '400' '569' '905' '453' '86' '522' '734' '17' '261'\n",
      " '187' '360' '483' '509' '576' '501' '458' '333' '697' '757' '809' '251'\n",
      " '791' '503' '575' '70' '208' '147' '900' '201' '67' '707' '246' '357'\n",
      " '759' '779' '224' '749' '148' '236' '219' '951' '933' '417' '308' '687'\n",
      " '309' '606' '339' '597' '912' '320' '691' '94' '657' '346' '549' '694'\n",
      " '422' '415' '171' '481' '746' '817' '134' '919' '802' '407' '736' '758'\n",
      " '85' '958' '716' '4' '755' '230' '559' '545' '540' '800' '961' '385'\n",
      " '521' '760' '444' '28' '258' '604' '349' '607' '618' '283' '58' '529'\n",
      " '478' '64' '574' '704' '560' '457' '170' '555' '941' '614' '731' '679'\n",
      " '115' '577' '571' '193' '646' '59' '220' '287' '245' '313' '497' '66'\n",
      " '24' '299' '404' '944' '792' '465' '253' '418' '334' '41' '613' '369'\n",
      " '821' '118' '640' '601' '806' '466' '621' '88' '137' '766' '250' '248'\n",
      " '207' '97' '105' '433' '296' '506' '781' '504' '476' '99' '340' '675'\n",
      " '681' '155' '544' '15' '812' '513' '74' '286' '278' '784' '178' '264'\n",
      " '271' '460' '395' '363' '73' '65' '310' '426' '213' '943' '161' '7' '228'\n",
      " '735' '100' '526' '667' '556' '168' '648' '669' '203' '701' '754' '307'\n",
      " '195' '249' '622' '365' '40' '43' '37' '612' '797' '104' '638' '35' '430'\n",
      " '262' '592' '75' '459' '935' '636' '133' '173' '937' '124' '956' '98'\n",
      " '502' '21' '169' '546' '649' '387' '373' '204' '350' '175' '324' '312'\n",
      " '11' '945' '82' '108' '643' '328' '629' '443' '637' '256' '295' '419'\n",
      " '537' '907' '747' '370' '68' '152' '306' '725' '431' '440' '765' '768'\n",
      " '2' '413' '717' '13' '785' '713' '106' '949' '270' '491' '33' '343' '71'\n",
      " '302' '10' '479' '384' '942' '393' '300' '183' '468' '96' '275' '820'\n",
      " '260' '789' '55' '811' '31' '730' '57' '764' '217' '475' '703' '19' '689'\n",
      " '769' '593' '695' '803' '107' '772' '570' '804' '372' '763' '279' '221'\n",
      " '920' '34' '409' '338' '617' '685' '787' '368' '274' '628' '692' '436'\n",
      " '696' '807' '159' '132' '557' '676' '625' '160' '714' '191' '141' '252'\n",
      " '523' '454' '688' '89' '602' '323' '505' '561' '90' '396' '723' '255'\n",
      " '367' '626' '46' '377' '712' '391' '405' '211' '903' '140' '114' '536'\n",
      " '732' '316' '273' '196' '301' '176' '156' '284' '733' '588' '946' '267'\n",
      " '16' '163' '477' '215' '500' '269' '188' '644' '711' '293' '518' '241'\n",
      " '532' '408' '81' '573' '314' '567' '953' '658' '921' '423' '954' '751'\n",
      " '376' '702' '645' '259' '184' '541' '566' '489' '647' '44' '528' '762'\n",
      " '399' '36' '925' '383' '538' '581' '531' '32' '389' '292' '524' '158'\n",
      " '700' '3' '770' '952' '126' '589' '910' '615' '948' '818' '534' '9' '930'\n",
      " '492' '767' '650' '773' '726' '54' '298' '486' '552' '331' '164' '632'\n",
      " '189' '634' '741' '533' '722' '660' '484' '705' '737' '715' '49' '6'\n",
      " '197' '109' '630' '743' '91' '670' '25' '710' '392' '926' '14' '668'\n",
      " '633' '199' '494' '719' '209' '535' '374' '924' '677' '125' '729' '568'\n",
      " '656' '227' '655' '775' '110' '720' '810' '153' '609' '548' '8' '662'\n",
      " '470' '740' '585' '202' '375' '750' '411' '474' '353' '471' '591' '815'\n",
      " '507' '42' '610' '686' '753' '664' '382' '923' '798' '48' '322' '799'\n",
      " '39' '1' '473' '654' '62' '539' '553' '718' '390' '616' '813' '51' '136'\n",
      " '962' '488' '414' '738' '709' '922' '517' '45' '673' '514' '386' '742'\n",
      " '693' '5' '721' '708' '210' '661' '596' '959' '47' '917' '918' '671'\n",
      " '728' '665' '932' '53' '684' '412' '595' '18' '635' '599' '277' '698'\n",
      " '511' '819' '554' '745' '927' '699' '653' '678' '744' '683' '590' '690'\n",
      " '960' '663' '672' '739' '000' '825' '190' '659' '950']\n",
      "SHOOTING has this values: [nan 'Y']\n",
      "OCCURRED_ON_DATE has this values: ['2018-09-02 13:00:00' '2018-08-21 00:00:00' '2018-09-03 19:27:00' ...\n",
      " '2015-07-09 13:38:00' '2016-05-31 19:35:00' '2015-06-22 00:12:00']\n",
      "YEAR has this values: [2018 2017 2016 2015]\n",
      "MONTH has this values: [ 9  8  6  7 11 10  5 12  2  1  4  3]\n",
      "DAY_OF_WEEK has this values: ['Sunday' 'Tuesday' 'Monday' 'Saturday' 'Friday' 'Wednesday' 'Thursday']\n",
      "HOUR has this values: [13  0 19 21 20 14 18 17 16 15 12  6 11 10  2  3  9  1  5  8  7  4 23 22]\n",
      "UCR_PART has this values: ['Part One' 'Part Two' 'Part Three' 'Other' nan]\n",
      "STREET has this values: ['LINCOLN ST' 'HECLA ST' 'CAZENOVE ST' ... 'NEWCOMB' 'MT PLEASANT AVE'\n",
      " 'SAVIN HILL AV']\n",
      "Lat has this values: [42.35779134 42.30682138 42.34658879 ... 42.346473   42.33987101\n",
      " 42.3621837 ]\n",
      "Long has this values: [-71.13937053 -71.06030035 -71.07242943 ... -71.091202   -71.16642615\n",
      " -71.06744204]\n",
      "Location has this values: ['(42.35779134, -71.13937053)' '(42.30682138, -71.06030035)'\n",
      " '(42.34658879, -71.07242943)' ... '(42.34647300, -71.09120200)'\n",
      " '(42.33987101, -71.16642615)' '(42.36218370, -71.06744204)']\n"
     ]
    }
   ],
   "execution_count": 9
  },
  {
   "metadata": {},
   "cell_type": "markdown",
   "source": "### Pratically Changes",
   "id": "57ab6f028b3d02bb"
  },
  {
   "metadata": {},
   "cell_type": "markdown",
   "source": "Rename the columns",
   "id": "fa1a853f455da561"
  },
  {
   "metadata": {
    "ExecuteTime": {
     "end_time": "2024-11-15T17:12:09.348214Z",
     "start_time": "2024-11-15T17:12:09.339475Z"
    }
   },
   "cell_type": "code",
   "source": [
    "# rename columns\n",
    "crime.columns = [col.title().replace(\" \", \"_\") for col in crime.columns]\n",
    "crime.columns"
   ],
   "id": "c206ef8c9ad62a2c",
   "outputs": [
    {
     "data": {
      "text/plain": [
       "Index(['Incident_Number', 'Offense_Code', 'Offense_Code_Group',\n",
       "       'Offense_Description', 'District', 'Reporting_Area', 'Shooting',\n",
       "       'Occurred_On_Date', 'Year', 'Month', 'Day_Of_Week', 'Hour', 'Ucr_Part',\n",
       "       'Street', 'Lat', 'Long', 'Location'],\n",
       "      dtype='object')"
      ]
     },
     "execution_count": 10,
     "metadata": {},
     "output_type": "execute_result"
    }
   ],
   "execution_count": 10
  },
  {
   "metadata": {},
   "cell_type": "markdown",
   "source": "Put the description of the offenses in lower case",
   "id": "d257a50a23e11932"
  },
  {
   "metadata": {
    "ExecuteTime": {
     "end_time": "2024-11-15T17:12:09.590775Z",
     "start_time": "2024-11-15T17:12:09.431101Z"
    }
   },
   "cell_type": "code",
   "source": [
    "crime['Offense_Code_Group'] = crime['Offense_Code_Group'].str.lower()\n",
    "crime[\"Offense_Description\"] = crime[\"Offense_Description\"].str.lower()"
   ],
   "id": "21bc1c83695171f3",
   "outputs": [],
   "execution_count": 11
  },
  {
   "metadata": {},
   "cell_type": "markdown",
   "source": [
    "Maybe is better remove the offense_code column from our analysis.\n",
    "The offense code are more than the offense code group, but we don't know the real meaning of this code. We have two options:\n",
    "- choose the meaning of the codes and traslate them to the real offense done\n",
    "- drop this column and focus our analysis on the offense code group"
   ],
   "id": "ecfbb94b6554a653"
  },
  {
   "metadata": {
    "ExecuteTime": {
     "end_time": "2024-11-15T17:12:09.705570Z",
     "start_time": "2024-11-15T17:12:09.638945Z"
    }
   },
   "cell_type": "code",
   "source": [
    "n_off_cod = len(crime['Offense_Code'].unique())\n",
    "n_off_cod_gr = len(crime['Offense_Code_Group'].unique())\n",
    "print(f'In the dataset there are {n_off_cod} offense codes and {n_off_cod_gr} offense code groups.')"
   ],
   "id": "e7d5c3383de67add",
   "outputs": [
    {
     "name": "stdout",
     "output_type": "stream",
     "text": [
      "In the dataset there are 222 offense codes and 66 offense code groups.\n"
     ]
    }
   ],
   "execution_count": 12
  },
  {
   "metadata": {
    "ExecuteTime": {
     "end_time": "2024-11-15T17:12:09.824779Z",
     "start_time": "2024-11-15T17:12:09.756551Z"
    }
   },
   "cell_type": "code",
   "source": "crime = crime.drop('Offense_Code', axis=1)",
   "id": "237bc404504d0d02",
   "outputs": [],
   "execution_count": 13
  },
  {
   "metadata": {},
   "cell_type": "markdown",
   "source": "### Duplicates",
   "id": "caed7fdfb42c173f"
  },
  {
   "metadata": {
    "ExecuteTime": {
     "end_time": "2024-11-15T17:12:10.857266Z",
     "start_time": "2024-11-15T17:12:09.849453Z"
    }
   },
   "cell_type": "code",
   "source": [
    "bool_series = crime.duplicated(keep='first') \n",
    "print(f'The data has {bool_series.sum().sum()} duplicated')\n",
    "\n",
    "data_without_duplicates = crime[~bool_series]\n",
    "\n",
    "len(crime), len(data_without_duplicates)"
   ],
   "id": "186690a4e8c0e9cc",
   "outputs": [
    {
     "name": "stdout",
     "output_type": "stream",
     "text": [
      "The data has 24 duplicated\n"
     ]
    },
    {
     "data": {
      "text/plain": [
       "(319073, 319049)"
      ]
     },
     "execution_count": 14,
     "metadata": {},
     "output_type": "execute_result"
    }
   ],
   "execution_count": 14
  },
  {
   "metadata": {},
   "cell_type": "markdown",
   "source": "In this case I suppose that we shouldn't delete the duplicated data, because it's possible that the same type of incident has been done from different people togheter.",
   "id": "9bf7660aad039e86"
  },
  {
   "metadata": {
    "ExecuteTime": {
     "end_time": "2024-11-15T17:12:10.949301Z",
     "start_time": "2024-11-15T17:12:10.942839Z"
    }
   },
   "cell_type": "code",
   "source": "#crime = data_without_duplicates",
   "id": "b7d5b56e34caaaf7",
   "outputs": [],
   "execution_count": 15
  },
  {
   "metadata": {},
   "cell_type": "markdown",
   "source": "### Missing Values",
   "id": "5cdf5a49573adbe4"
  },
  {
   "metadata": {},
   "cell_type": "markdown",
   "source": "- for SHOOTING",
   "id": "dc1dd65dce29e7ce"
  },
  {
   "metadata": {
    "ExecuteTime": {
     "end_time": "2024-11-15T17:12:11.070700Z",
     "start_time": "2024-11-15T17:12:11.038392Z"
    }
   },
   "cell_type": "code",
   "source": "crime['Shooting'].unique()",
   "id": "53fb95355ba5895",
   "outputs": [
    {
     "data": {
      "text/plain": [
       "array([nan, 'Y'], dtype=object)"
      ]
     },
     "execution_count": 16,
     "metadata": {},
     "output_type": "execute_result"
    }
   ],
   "execution_count": 16
  },
  {
   "metadata": {
    "ExecuteTime": {
     "end_time": "2024-11-15T17:12:11.194407Z",
     "start_time": "2024-11-15T17:12:11.172828Z"
    }
   },
   "cell_type": "code",
   "source": "crime['Shooting'].isna().sum()\n",
   "id": "c2712084ea9267cb",
   "outputs": [
    {
     "data": {
      "text/plain": [
       "np.int64(318054)"
      ]
     },
     "execution_count": 17,
     "metadata": {},
     "output_type": "execute_result"
    }
   ],
   "execution_count": 17
  },
  {
   "metadata": {},
   "cell_type": "markdown",
   "source": "the missing values are the incident without a shooting",
   "id": "993c57bcfb5ef925"
  },
  {
   "metadata": {
    "ExecuteTime": {
     "end_time": "2024-11-15T17:12:11.319608Z",
     "start_time": "2024-11-15T17:12:11.267714Z"
    }
   },
   "cell_type": "code",
   "source": "crime['Shooting'] = crime['Shooting'].replace(['Y', np.nan], [True, False]).astype(bool)",
   "id": "39de502aede6ded",
   "outputs": [],
   "execution_count": 18
  },
  {
   "metadata": {
    "ExecuteTime": {
     "end_time": "2024-11-15T17:12:11.362418Z",
     "start_time": "2024-11-15T17:12:11.349728Z"
    }
   },
   "cell_type": "code",
   "source": "crime['Shooting'].unique()",
   "id": "63c3bd078776882a",
   "outputs": [
    {
     "data": {
      "text/plain": [
       "array([False,  True])"
      ]
     },
     "execution_count": 19,
     "metadata": {},
     "output_type": "execute_result"
    }
   ],
   "execution_count": 19
  },
  {
   "metadata": {
    "ExecuteTime": {
     "end_time": "2024-11-15T17:12:11.457437Z",
     "start_time": "2024-11-15T17:12:11.448650Z"
    }
   },
   "cell_type": "code",
   "source": "crime['Shooting'][crime['Shooting'] == True].sum()",
   "id": "fecf702121f3fc62",
   "outputs": [
    {
     "data": {
      "text/plain": [
       "np.int64(1019)"
      ]
     },
     "execution_count": 20,
     "metadata": {},
     "output_type": "execute_result"
    }
   ],
   "execution_count": 20
  },
  {
   "metadata": {},
   "cell_type": "markdown",
   "source": "- for DISTRICT",
   "id": "d01e0c81c0f3dc69"
  },
  {
   "metadata": {
    "ExecuteTime": {
     "end_time": "2024-11-15T17:12:11.558591Z",
     "start_time": "2024-11-15T17:12:11.535237Z"
    }
   },
   "cell_type": "code",
   "source": "crime['District'].unique()",
   "id": "a81dcb69a808a2c6",
   "outputs": [
    {
     "data": {
      "text/plain": [
       "array(['D14', 'C11', 'D4', 'B3', 'B2', 'C6', nan, 'A1', 'E5', 'A7', 'E13',\n",
       "       'E18', 'A15'], dtype=object)"
      ]
     },
     "execution_count": 21,
     "metadata": {},
     "output_type": "execute_result"
    }
   ],
   "execution_count": 21
  },
  {
   "metadata": {
    "ExecuteTime": {
     "end_time": "2024-11-15T17:12:11.640312Z",
     "start_time": "2024-11-15T17:12:11.618549Z"
    }
   },
   "cell_type": "code",
   "source": "crime['District'].isna().sum()",
   "id": "b2c2a85507cee8b1",
   "outputs": [
    {
     "data": {
      "text/plain": [
       "np.int64(1765)"
      ]
     },
     "execution_count": 22,
     "metadata": {},
     "output_type": "execute_result"
    }
   ],
   "execution_count": 22
  },
  {
   "metadata": {
    "ExecuteTime": {
     "end_time": "2024-11-15T17:12:11.723631Z",
     "start_time": "2024-11-15T17:12:11.698488Z"
    }
   },
   "cell_type": "code",
   "source": [
    "n_nan = crime['District'].isna().sum()\n",
    "tot = len(crime)\n",
    "print(f'The nan value are {round((n_nan*100)/tot, 2)} %.')"
   ],
   "id": "d6922078df09ed4f",
   "outputs": [
    {
     "name": "stdout",
     "output_type": "stream",
     "text": [
      "The nan value are 0.55 %.\n"
     ]
    }
   ],
   "execution_count": 23
  },
  {
   "metadata": {},
   "cell_type": "markdown",
   "source": "We can delete them.",
   "id": "c5e41d0f47eeab6a"
  },
  {
   "metadata": {
    "ExecuteTime": {
     "end_time": "2024-11-15T17:12:11.859377Z",
     "start_time": "2024-11-15T17:12:11.769137Z"
    }
   },
   "cell_type": "code",
   "source": [
    "bool_series = crime['District'].isna() \n",
    "print(f'The data has {bool_series.sum().sum()} nan')\n",
    "\n",
    "data_without_nan = crime[~bool_series]\n",
    "\n",
    "print(f'dropped {len(crime)-len(data_without_nan)} instances')"
   ],
   "id": "42a145adc29c9d20",
   "outputs": [
    {
     "name": "stdout",
     "output_type": "stream",
     "text": [
      "The data has 1765 nan\n",
      "dropped 1765 instances\n"
     ]
    }
   ],
   "execution_count": 24
  },
  {
   "metadata": {
    "ExecuteTime": {
     "end_time": "2024-11-15T17:12:11.927225Z",
     "start_time": "2024-11-15T17:12:11.896138Z"
    }
   },
   "cell_type": "code",
   "source": "crime = data_without_nan",
   "id": "52b399d5eedfa795",
   "outputs": [],
   "execution_count": 25
  },
  {
   "metadata": {},
   "cell_type": "markdown",
   "source": "### Outliers",
   "id": "9f8a49f03fba34ac"
  },
  {
   "metadata": {
    "ExecuteTime": {
     "end_time": "2024-11-15T17:12:11.969373Z",
     "start_time": "2024-11-15T17:12:11.960650Z"
    }
   },
   "cell_type": "code",
   "source": [
    "# find the index of the outliers for a feature\n",
    "def iqr_outliers(data, f):\n",
    "    # find the quantile\n",
    "    Q1 = data[f].quantile(0.25)\n",
    "    Q3 = data[f].quantile(0.75)\n",
    "    # calculate the inter quantile range\n",
    "    IQR = Q3 - Q1\n",
    "    # select the boundaries\n",
    "    lower_bound = Q1 - 1.5 * IQR\n",
    "    upper_bound = Q3 + 1.5 * IQR\n",
    "    # find indexes of outliers\n",
    "    outliers_indexes_iqr = data[(data[f] < lower_bound) | (data[f] > upper_bound)].index\n",
    "    return outliers_indexes_iqr"
   ],
   "id": "9c1a160fa2385357",
   "outputs": [],
   "execution_count": 26
  },
  {
   "metadata": {
    "ExecuteTime": {
     "end_time": "2024-11-15T17:12:14.170476Z",
     "start_time": "2024-11-15T17:12:12.006210Z"
    }
   },
   "cell_type": "code",
   "source": "crime.boxplot()",
   "id": "2d98afd93048ad0e",
   "outputs": [
    {
     "data": {
      "text/plain": [
       "<Axes: >"
      ]
     },
     "execution_count": 27,
     "metadata": {},
     "output_type": "execute_result"
    },
    {
     "data": {
      "text/plain": [
       "<Figure size 640x480 with 1 Axes>"
      ],
      "image/png": "[encoded data removed]"
     },
     "metadata": {},
     "output_type": "display_data"
    }
   ],
   "execution_count": 27
  },
  {
   "metadata": {
    "ExecuteTime": {
     "end_time": "2024-11-15T17:12:14.240584Z",
     "start_time": "2024-11-15T17:12:14.230262Z"
    }
   },
   "cell_type": "code",
   "source": [
    "# Initialize dict and list to store outliers information\n",
    "outliers_df = pd.DataFrame(columns=['feature', 'outlier indexes'])\n",
    "features =[] #todo features from which we have to remove the outliers \n",
    "for f in features:\n",
    "    outliers_indexes = iqr_outliers(crime, f)\n",
    "    new_instance = pd.DataFrame({'feature': f, 'outlier indexes': outliers_indexes})\n",
    "    outliers_df = pd.concat([outliers_df, new_instance], ignore_index=True)\n",
    "    print(f'The feature {f} has {len(outliers_indexes)} outliers.')\n",
    "    \n",
    "outliers_df.groupby('feature').count()\n",
    "outliers_indexes_unique = outliers_df['outlier indexes'].unique()\n",
    "print(f'The dataset has {len(outliers_indexes_unique)} instances with outliers.')\n",
    "print(f'that is the {round((len(outliers_indexes_unique)*100)/len(crime),2)}% of the instances')\n"
   ],
   "id": "5851761635fe9f61",
   "outputs": [
    {
     "name": "stdout",
     "output_type": "stream",
     "text": [
      "The dataset has 0 instances with outliers.\n",
      "that is the 0.0% of the instances\n"
     ]
    }
   ],
   "execution_count": 28
  },
  {
   "metadata": {
    "ExecuteTime": {
     "end_time": "2024-11-15T17:12:14.907133Z",
     "start_time": "2024-11-15T17:12:14.302060Z"
    }
   },
   "cell_type": "code",
   "source": [
    "data_with_nan_outliers = crime.copy(deep=True)\n",
    "data_dropped_outliers = crime.copy(deep=True)\n",
    "\n",
    "for idx in range(len(outliers_df)):\n",
    "    index = int(outliers_df.loc[idx]['outlier indexes'])\n",
    "    feat = outliers_df.loc[idx]['feature']\n",
    "    # replace the outlier value with nan\n",
    "    data_with_nan_outliers.at[index, feat] = np.nan\n",
    "for index in outliers_df['outlier indexes'].unique():\n",
    "    # drop the instance with the missing value\n",
    "    data_dropped_outliers = data_dropped_outliers.drop(index)\n",
    "\n",
    "print('dropping them')\n",
    "print(f'The instances of the data before dropping the outliers are {crime.shape[0]}.')\n",
    "print(f'Now the instances are {data_dropped_outliers.shape[0]}')\n",
    "print('\\nputting nan them')\n",
    "print(f'The missing values before the replacement are {crime.isna().sum().sum()}.')\n",
    "print(f'Now the missing values are {data_with_nan_outliers.isna().sum().sum()}.')"
   ],
   "id": "3c3090c8ba071fa",
   "outputs": [
    {
     "name": "stdout",
     "output_type": "stream",
     "text": [
      "dropping them\n",
      "The instances of the data before dropping the outliers are 317308.\n",
      "Now the instances are 317308\n",
      "\n",
      "putting nan them\n",
      "The missing values before the replacement are 49344.\n",
      "Now the missing values are 49344.\n"
     ]
    }
   ],
   "execution_count": 29
  },
  {
   "metadata": {},
   "cell_type": "markdown",
   "source": "### export of the new dataset",
   "id": "a5b79db86fcac848"
  },
  {
   "metadata": {
    "ExecuteTime": {
     "end_time": "2024-11-15T17:14:25.698045Z",
     "start_time": "2024-11-15T17:12:15.004099Z"
    }
   },
   "cell_type": "code",
   "source": [
    "crime.to_csv('crime_cleaned.csv', index=False)\n",
    "#todo pip install openpyxl\n",
    "crime.to_excel('crime_cleaned.xlsx', index=False)"
   ],
   "id": "7acd9338966fba24",
   "outputs": [],
   "execution_count": 30
  },
  {
   "metadata": {},
   "cell_type": "markdown",
   "source": "### export one dataset for each offense code groups",
   "id": "a5bc59f9937fb06f"
  },
  {
   "metadata": {
    "ExecuteTime": {
     "end_time": "2024-11-15T17:14:25.767763Z",
     "start_time": "2024-11-15T17:14:25.708631Z"
    }
   },
   "cell_type": "code",
   "source": "crime['Offense_Code_Group'].value_counts()",
   "id": "53fbe4131c7dda9b",
   "outputs": [
    {
     "data": {
      "text/plain": [
       "Offense_Code_Group\n",
       "motor vehicle accident response              36654\n",
       "larceny                                      25861\n",
       "medical assistance                           23475\n",
       "investigate person                           18681\n",
       "other                                        17992\n",
       "                                             ...  \n",
       "gambling                                         8\n",
       "human trafficking                                7\n",
       "biological threat                                2\n",
       "human trafficking - involuntary servitude        2\n",
       "burglary - no property taken                     2\n",
       "Name: count, Length: 66, dtype: int64"
      ]
     },
     "execution_count": 31,
     "metadata": {},
     "output_type": "execute_result"
    }
   ],
   "execution_count": 31
  },
  {
   "metadata": {
    "ExecuteTime": {
     "end_time": "2024-11-15T17:14:33.027595Z",
     "start_time": "2024-11-15T17:14:25.855263Z"
    }
   },
   "cell_type": "code",
   "source": [
    "# create the folder if it doesn't exist\n",
    "folder_path = '.\\\\df_offense_code_group'\n",
    "os.makedirs(folder_path, exist_ok=True)\n",
    "\n",
    "for g in crime['Offense_Code_Group'].unique():\n",
    "    # replace the character not valid\n",
    "    safe_group_name = g.replace('/', '_') if isinstance(g, str) else 'Unknown'\n",
    "    # make a file path with the adequate file name\n",
    "    file_path = os.path.join(folder_path, f'{safe_group_name}.csv')\n",
    "\n",
    "    # filter data\n",
    "    df = crime[crime['Offense_Code_Group'] == g]\n",
    "\n",
    "    # save the file\n",
    "    df.to_csv(file_path, index=False)\n",
    "    #df.to_excel(file_path, index=False)\n"
   ],
   "id": "cae627af99ea532c",
   "outputs": [],
   "execution_count": 32
  },
  {
   "metadata": {},
   "cell_type": "markdown",
   "source": "### export one dataset for each district",
   "id": "8c2b989fa4c6afea"
  },
  {
   "metadata": {
    "ExecuteTime": {
     "end_time": "2024-11-15T17:14:33.130466Z",
     "start_time": "2024-11-15T17:14:33.086977Z"
    }
   },
   "cell_type": "code",
   "source": "crime['District'].value_counts()",
   "id": "7dbf478fa957bca2",
   "outputs": [
    {
     "data": {
      "text/plain": [
       "District\n",
       "B2     49945\n",
       "C11    42530\n",
       "D4     41915\n",
       "A1     35717\n",
       "B3     35442\n",
       "C6     23460\n",
       "D14    20127\n",
       "E13    17536\n",
       "E18    17348\n",
       "A7     13544\n",
       "E5     13239\n",
       "A15     6505\n",
       "Name: count, dtype: int64"
      ]
     },
     "execution_count": 33,
     "metadata": {},
     "output_type": "execute_result"
    }
   ],
   "execution_count": 33
  },
  {
   "metadata": {
    "ExecuteTime": {
     "end_time": "2024-11-15T17:15:06.376761Z",
     "start_time": "2024-11-15T17:15:01.652111Z"
    }
   },
   "cell_type": "code",
   "source": [
    "# create the folder if it doesn't exist\n",
    "folder_path = '.\\\\df_district'\n",
    "os.makedirs(folder_path, exist_ok=True)\n",
    "\n",
    "for g in crime['District'].unique():\n",
    "    # replace the character not valid\n",
    "    safe_group_name = g.replace('/', '_') if isinstance(g, str) else 'Unknown'\n",
    "    # make a file path with the adequate file name\n",
    "    file_path = os.path.join(folder_path, f'{safe_group_name}.csv')\n",
    "\n",
    "    # filter data\n",
    "    df = crime[crime['District'] == g]\n",
    "\n",
    "    # save the file\n",
    "    df.to_csv(file_path, index=False)\n",
    "    #df.to_excel(file_path, index=False)\n"
   ],
   "id": "d45c71d25d3ee0d6",
   "outputs": [],
   "execution_count": 34
  }
 ],
 "metadata": {
  "kernelspec": {
   "display_name": "Python 3",
   "language": "python",
   "name": "python3"
  },
  "language_info": {
   "codemirror_mode": {
    "name": "ipython",
    "version": 2
   },
   "file_extension": ".py",
   "mimetype": "text/x-python",
   "name": "python",
   "nbconvert_exporter": "python",
   "pygments_lexer": "ipython2",
   "version": "2.7.6"
  }
 },
 "nbformat": 4,
 "nbformat_minor": 5
}
